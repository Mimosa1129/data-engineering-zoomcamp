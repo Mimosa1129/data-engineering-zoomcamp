{
 "cells": [
  {
   "cell_type": "code",
   "execution_count": 2,
   "id": "a7554595-e51f-4c0e-a71b-2905518d0052",
   "metadata": {},
   "outputs": [
    {
     "name": "stdout",
     "output_type": "stream",
     "text": [
      "3.5.5\n"
     ]
    }
   ],
   "source": [
    "from pyspark.sql import SparkSession\n",
    "\n",
    "# 创建 SparkSession\n",
    "spark = SparkSession.builder.appName(\"test\").getOrCreate()\n",
    "\n",
    "# 检查 Spark 版本\n",
    "print(spark.version)\n"
   ]
  },
  {
   "cell_type": "code",
   "execution_count": 4,
   "id": "1fd15dbb-1cdc-4dcd-a2f0-0ff82d4e1995",
   "metadata": {},
   "outputs": [
    {
     "name": "stderr",
     "output_type": "stream",
     "text": [
      "                                                                                "
     ]
    }
   ],
   "source": [
    "# Read the Parquet file into a Spark DataFrame\n",
    "df = spark.read.parquet(\"yellow_tripdata_2024-10.parquet\")\n",
    "# Repartition the DataFrame into 4 partitions\n",
    "df_repartitioned = df.repartition(4)\n",
    "# Save the DataFrame to a new Parquet file\n",
    "df_repartitioned.write.parquet(\"output/yellow_tripdata_2024-10-repartitioned.parquet\")\n"
   ]
  },
  {
   "cell_type": "code",
   "execution_count": 6,
   "id": "32e45bb1-f4e6-4a67-8d2e-d219c3c32c71",
   "metadata": {},
   "outputs": [
    {
     "data": {
      "text/plain": [
       "Row(VendorID=2, tpep_pickup_datetime=datetime.datetime(2024, 10, 1, 0, 30, 44), tpep_dropoff_datetime=datetime.datetime(2024, 10, 1, 0, 48, 26), passenger_count=1, trip_distance=3.0, RatecodeID=1, store_and_fwd_flag='N', PULocationID=162, DOLocationID=246, payment_type=1, fare_amount=18.4, extra=1.0, mta_tax=0.5, tip_amount=1.5, tolls_amount=0.0, improvement_surcharge=1.0, total_amount=24.9, congestion_surcharge=2.5, Airport_fee=0.0)"
      ]
     },
     "execution_count": 6,
     "metadata": {},
     "output_type": "execute_result"
    }
   ],
   "source": [
    "df.head()"
   ]
  },
  {
   "cell_type": "code",
   "execution_count": 5,
   "id": "a2ab04f8-27dc-476f-8c27-97e95dc84094",
   "metadata": {},
   "outputs": [
    {
     "name": "stdout",
     "output_type": "stream",
     "text": [
      "Total Size: 89.58 MB\n",
      "Average Parquet File Size: 22.39 MB\n"
     ]
    }
   ],
   "source": [
    "import os\n",
    "\n",
    "# Define the output directory where the Parquet files are saved\n",
    "output_dir = \"output/yellow_tripdata_2024-10-repartitioned.parquet\"\n",
    "\n",
    "# Get a list of all files with .parquet extension\n",
    "parquet_files = [f for f in os.listdir(output_dir) if f.endswith(\".parquet\")]\n",
    "\n",
    "# Calculate total size in bytes\n",
    "total_size = sum(os.path.getsize(os.path.join(output_dir, f)) for f in parquet_files)\n",
    "\n",
    "# Convert size to MB\n",
    "total_size_MB = total_size / (1024 * 1024)\n",
    "\n",
    "# Compute the average size per file\n",
    "average_size_MB = total_size_MB / len(parquet_files) if parquet_files else 0\n",
    "\n",
    "print(f\"Total Size: {total_size_MB:.2f} MB\")\n",
    "print(f\"Average Parquet File Size: {average_size_MB:.2f} MB\")\n"
   ]
  },
  {
   "cell_type": "code",
   "execution_count": 11,
   "id": "b64cf198-d89d-49ea-ad3e-8655780bf1ad",
   "metadata": {},
   "outputs": [
    {
     "name": "stderr",
     "output_type": "stream",
     "text": [
      "[Stage 19:=============================>                            (2 + 2) / 4]"
     ]
    },
    {
     "name": "stdout",
     "output_type": "stream",
     "text": [
      "There were 127993 taxi trips on the 15th of October.\n"
     ]
    },
    {
     "name": "stderr",
     "output_type": "stream",
     "text": [
      "                                                                                "
     ]
    }
   ],
   "source": [
    "from pyspark.sql import functions as F\n",
    "\n",
    "# 确保 tpep_pickup_datetime 和 tpep_dropoff_datetime 都是时间戳类型\n",
    "df = df.withColumn(\"tpep_pickup_datetime\", F.col(\"tpep_pickup_datetime\").cast(\"timestamp\")) \\\n",
    "       .withColumn(\"tpep_dropoff_datetime\", F.col(\"tpep_dropoff_datetime\").cast(\"timestamp\"))\n",
    "\n",
    "# 提取日期部分并添加为新列 'pickup_date' 和 'dropoff_date'\n",
    "df = df.withColumn(\"pickup_date\", F.to_date(\"tpep_pickup_datetime\")) \\\n",
    "       .withColumn(\"dropoff_date\", F.to_date(\"tpep_dropoff_datetime\"))\n",
    "\n",
    "# 重新分区数据，按日期分区\n",
    "df_repartitioned = df.repartition(4, \"pickup_date\")\n",
    "\n",
    "# 保存重新分区的数据为Parquet\n",
    "df_repartitioned.write.partitionBy(\"pickup_date\").mode(\"overwrite\").parquet(\"pickup_date_partition_output/yellow_tripdata_2024-10-repartitioned.parquet\")\n",
    "\n",
    "# 过滤出pickup_date和dropoff_date都是10月15日的记录\n",
    "oct_15th_data = df_repartitioned.filter(\n",
    "    (F.col(\"pickup_date\") == F.to_date(F.lit(\"2024-10-15\"))) & \n",
    "    (F.col(\"dropoff_date\") == F.to_date(F.lit(\"2024-10-15\")))\n",
    ")\n",
    "\n",
    "# 统计10月15日的出租车行程数量\n",
    "trip_count = oct_15th_data.count()\n",
    "\n",
    "print(f\"There were {trip_count} taxi trips on the 15th of October.\")"
   ]
  },
  {
   "cell_type": "code",
   "execution_count": 12,
   "id": "2d011c8c-0383-44af-b006-54c4a1bfa218",
   "metadata": {},
   "outputs": [
    {
     "name": "stderr",
     "output_type": "stream",
     "text": [
      "[Stage 25:==============>                                           (1 + 3) / 4]"
     ]
    },
    {
     "name": "stdout",
     "output_type": "stream",
     "text": [
      "The longest trip duration is 162.61777777777777 hours.\n"
     ]
    },
    {
     "name": "stderr",
     "output_type": "stream",
     "text": [
      "                                                                                "
     ]
    }
   ],
   "source": [
    "# Calculate the duration of each trip in hours\n",
    "df_with_duration = df_repartitioned.withColumn(\n",
    "    \"trip_duration_hours\",\n",
    "    (F.col(\"tpep_dropoff_datetime\").cast(\"long\") - F.col(\"tpep_pickup_datetime\").cast(\"long\")) / 3600  # Convert from seconds to hours\n",
    ")\n",
    "\n",
    "# Find the longest trip duration\n",
    "longest_trip_duration = df_with_duration.agg(F.max(\"trip_duration_hours\")).collect()[0][0]\n",
    "\n",
    "# Output the result\n",
    "print(f\"The longest trip duration is {longest_trip_duration} hours.\")"
   ]
  },
  {
   "cell_type": "code",
   "execution_count": 17,
   "id": "0174c7c4-2cd9-42ac-8de4-2f7a10db848e",
   "metadata": {},
   "outputs": [
    {
     "name": "stderr",
     "output_type": "stream",
     "text": [
      "                                                                                "
     ]
    },
    {
     "data": {
      "text/plain": [
       "Row(VendorID=2, tpep_pickup_datetime=datetime.datetime(2024, 10, 6, 6, 6, 27), tpep_dropoff_datetime=datetime.datetime(2024, 10, 6, 6, 12, 14), passenger_count=1, trip_distance=1.85, RatecodeID=1, store_and_fwd_flag='N', PULocationID=238, DOLocationID=43, payment_type=1, fare_amount=10.0, extra=0.0, mta_tax=0.5, tip_amount=2.8, tolls_amount=0.0, improvement_surcharge=1.0, total_amount=16.8, congestion_surcharge=2.5, Airport_fee=0.0, pickup_date=datetime.date(2024, 10, 6), dropoff_date=datetime.date(2024, 10, 6), LocationID='238', Borough='Manhattan', Zone='Upper West Side North', service_zone='Yellow Zone')"
      ]
     },
     "execution_count": 17,
     "metadata": {},
     "output_type": "execute_result"
    }
   ],
   "source": [
    "# Step 1: Load the taxi_zone_lookup data\n",
    "zone_df = spark.read.option(\"header\", \"true\").csv(\"taxi_zone_lookup.csv\")\n",
    "\n",
    "# Create a temporary view for the zone lookup data\n",
    "zone_df.createOrReplaceTempView(\"taxi_zone_lookup\")\n",
    "\n",
    "joined_df = df_repartitioned.join(zone_df, df_repartitioned.PULocationID == zone_df.LocationID, \"inner\")\n",
    "joined_df.head()"
   ]
  },
  {
   "cell_type": "code",
   "execution_count": 18,
   "id": "a2b53f25-3d75-4d2e-949e-d77a2f293d97",
   "metadata": {},
   "outputs": [
    {
     "name": "stderr",
     "output_type": "stream",
     "text": [
      "                                                                                "
     ]
    },
    {
     "data": {
      "text/plain": [
       "Row(Zone='Homecrest', count=263)"
      ]
     },
     "execution_count": 18,
     "metadata": {},
     "output_type": "execute_result"
    }
   ],
   "source": [
    "pickup_counts = joined_df.groupBy(\"Zone\").count()\n",
    "pickup_counts.head()"
   ]
  },
  {
   "cell_type": "code",
   "execution_count": 19,
   "id": "7b549b08-9ad9-45a7-9369-2a9c4bd03897",
   "metadata": {},
   "outputs": [],
   "source": [
    "least_frequent_zone = pickup_counts.orderBy(\"count\").limit(1)"
   ]
  },
  {
   "cell_type": "code",
   "execution_count": 20,
   "id": "368984a7-7125-40e6-8067-1460b934fdb0",
   "metadata": {},
   "outputs": [
    {
     "name": "stderr",
     "output_type": "stream",
     "text": [
      "[Stage 48:=============================>                            (2 + 2) / 4]"
     ]
    },
    {
     "name": "stdout",
     "output_type": "stream",
     "text": [
      "+--------------------+-----+\n",
      "|                Zone|count|\n",
      "+--------------------+-----+\n",
      "|Governor's Island...|    1|\n",
      "+--------------------+-----+\n",
      "\n"
     ]
    },
    {
     "name": "stderr",
     "output_type": "stream",
     "text": [
      "                                                                                "
     ]
    }
   ],
   "source": [
    "least_frequent_zone.show()"
   ]
  },
  {
   "cell_type": "code",
   "execution_count": null,
   "id": "6c1350cb-78f4-4d3d-b6e9-d0a9371d453e",
   "metadata": {},
   "outputs": [],
   "source": []
  }
 ],
 "metadata": {
  "kernelspec": {
   "display_name": "Python 3 (ipykernel)",
   "language": "python",
   "name": "python3"
  },
  "language_info": {
   "codemirror_mode": {
    "name": "ipython",
    "version": 3
   },
   "file_extension": ".py",
   "mimetype": "text/x-python",
   "name": "python",
   "nbconvert_exporter": "python",
   "pygments_lexer": "ipython3",
   "version": "3.8.10"
  }
 },
 "nbformat": 4,
 "nbformat_minor": 5
}
